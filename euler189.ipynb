{
  "nbformat": 4,
  "nbformat_minor": 0,
  "metadata": {
    "colab": {
      "provenance": [],
      "authorship_tag": "ABX9TyMqebvMP1ioHV0iaMYJ78ru"
    },
    "kernelspec": {
      "name": "python3",
      "display_name": "Python 3"
    },
    "language_info": {
      "name": "python"
    }
  },
  "cells": [
    {
      "cell_type": "code",
      "source": [
        "from functools import lru_cache\n",
        "\n",
        "def assert_nonnegative_integer(value, name):\n",
        "  try:\n",
        "    if value == int(value) and value >= 0: return\n",
        "  except Exception: pass\n",
        "  raise Exception(f'`{name}` must be a nonnegative integer, but was: {value}')\n",
        "\n",
        "def count_colourings(num_triangles, num_colours):\n",
        "  @lru_cache(maxsize=None)\n",
        "  def recurse(num_triangles,\n",
        "              row_index, column_index,\n",
        "              colour_index, left_colour_index, colour_queue, mult):\n",
        "    if not num_triangles: return 1\n",
        "    if not column_index: return recurse(\n",
        "        num_triangles, row_index + 1, row_index * 2 + 1, num_colours - 1, -1,\n",
        "        colour_queue, mult)\n",
        "    if colour_index < 0: return 0\n",
        "    is_even_column = not (column_index % 2)\n",
        "    is_invalid_colour = (colour_index == left_colour_index) or (\n",
        "        is_even_column and (colour_index == (colour_queue % num_colours)))\n",
        "    new_colour_queue = (colour_queue // num_colours) if is_even_column else (\n",
        "        mult * colour_index + colour_queue)\n",
        "    new_mult = (mult // num_colours) if is_even_column else (mult * num_colours)\n",
        "    this_colour_count = 0 if is_invalid_colour else recurse(\n",
        "        num_triangles - 1, row_index, column_index - 1, num_colours - 1,\n",
        "        colour_index, new_colour_queue, new_mult)\n",
        "    next_colour_count = recurse(\n",
        "        num_triangles, row_index, column_index, colour_index - 1,\n",
        "        left_colour_index, colour_queue, mult)\n",
        "    return this_colour_count + next_colour_count\n",
        "  assert_nonnegative_integer(num_triangles, 'num_triangles')\n",
        "  assert_nonnegative_integer(num_colours, 'num_colours')\n",
        "  return recurse(num_triangles, 0, 0, 0, 0, 0, 1)\n",
        "\n",
        "count_colorings = count_colourings"
      ],
      "metadata": {
        "id": "VNYtKRpaK3M_"
      },
      "execution_count": null,
      "outputs": []
    },
    {
      "cell_type": "code",
      "source": [
        "count_colorings(64, 3)"
      ],
      "metadata": {
        "colab": {
          "base_uri": "https://localhost:8080/"
        },
        "id": "SMdqGelP9NU9",
        "outputId": "349670aa-49da-48bc-bbed-8621304d8884"
      },
      "execution_count": null,
      "outputs": [
        {
          "output_type": "execute_result",
          "data": {
            "text/plain": [
              "10834893628237824"
            ]
          },
          "metadata": {},
          "execution_count": 3
        }
      ]
    },
    {
      "cell_type": "code",
      "source": [
        "count_colorings(81, 3)"
      ],
      "metadata": {
        "colab": {
          "base_uri": "https://localhost:8080/"
        },
        "id": "Mk-taf4Q9rze",
        "outputId": "16ff0410-4180-4adb-fcd1-a68a285ee32b"
      },
      "execution_count": null,
      "outputs": [
        {
          "output_type": "execute_result",
          "data": {
            "text/plain": [
              "104224568112581443584"
            ]
          },
          "metadata": {},
          "execution_count": 4
        }
      ]
    },
    {
      "cell_type": "code",
      "source": [
        "count_colorings(64, 4)"
      ],
      "metadata": {
        "colab": {
          "base_uri": "https://localhost:8080/"
        },
        "id": "KEzuDNsxRdjW",
        "outputId": "f8d5ff14-fada-4314-a1eb-18627f54f259"
      },
      "execution_count": null,
      "outputs": [
        {
          "output_type": "execute_result",
          "data": {
            "text/plain": [
              "11872645002962652851157838356"
            ]
          },
          "metadata": {},
          "execution_count": 15
        }
      ]
    }
  ]
}